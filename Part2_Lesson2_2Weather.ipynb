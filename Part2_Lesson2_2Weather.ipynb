{
 "cells": [
  {
   "cell_type": "markdown",
   "id": "084b88b7",
   "metadata": {},
   "source": [
    "# Part 2, Lesson 2 - Data Engineering\n",
    "# API example - Weather\n",
    "\n",
    "You can get Weather data from several packages:\n",
    "* OpenWeatherMap \n",
    "* Weatherbit\n",
    "* AccuWeather\n",
    "* Dark Sky\n",
    "* ClimaCell\n",
    "* Israel metorologic center weather API: https://ims.gov.il/en/ObservationDataAPI\n",
    "\n",
    "All these packages are not supported by Anaconda and you will need to install them with the terminal command: **pip install**. \n",
    "\n",
    "In this demo we will use OpenWeatherMap (OWM) .\n",
    "\n",
    "See more in: https://pythonhowtoprogram.com/how-to-use-weather-api-to-get-weather-data-in-python-3/ "
   ]
  },
  {
   "cell_type": "markdown",
   "id": "b80f129f",
   "metadata": {},
   "source": [
    "## First time on OpenWetherMAP (ovm)\n",
    "\n",
    "### Install\n",
    "In terminal execute:\n",
    "pip install pyowm\n",
    "\n",
    "### Signup to ovm and create API key\n",
    "* Signup to: https://home.openweathermap.org/users/sign_up and click on verify email when done; or if you already have an account, Sign in to: https://home.openweathermap.org/users/sign_in \n",
    "* Enter API KEYS tab: https://home.openweathermap.org/api_keys\n",
    "* Copy the key on the left, or click to generate a new one if time has passed\n"
   ]
  },
  {
   "cell_type": "code",
   "execution_count": 2,
   "id": "aae58e68",
   "metadata": {},
   "outputs": [],
   "source": [
    "api_key = 'c337d9e69495794d3ce5ba292fceaa1b'"
   ]
  },
  {
   "cell_type": "markdown",
   "id": "d28e94af",
   "metadata": {},
   "source": [
    "### Import"
   ]
  },
  {
   "cell_type": "code",
   "execution_count": 1,
   "id": "575bc794",
   "metadata": {},
   "outputs": [],
   "source": [
    "import pyowm # import Python Open Weather Map to our project."
   ]
  },
  {
   "cell_type": "markdown",
   "id": "1f4eac7a",
   "metadata": {},
   "source": [
    "### Get weather data\n",
    "See possible locations in: https://openweathermap.org/weathermap?basemap=map&cities=true&layer=temperature&lat=31.7282&lon=35.0684&zoom=5 "
   ]
  },
  {
   "cell_type": "code",
   "execution_count": 3,
   "id": "189b116d",
   "metadata": {},
   "outputs": [],
   "source": [
    "OpenWMap=pyowm.OWM(api_key)"
   ]
  },
  {
   "cell_type": "code",
   "execution_count": 6,
   "id": "f6427d55",
   "metadata": {},
   "outputs": [],
   "source": [
    "Weather=OpenWMap.weather_manager()"
   ]
  },
  {
   "cell_type": "code",
   "execution_count": 10,
   "id": "fb12490b",
   "metadata": {},
   "outputs": [],
   "source": [
    "Cairo_weather = Weather.weather_at_place('Cairo')"
   ]
  },
  {
   "cell_type": "code",
   "execution_count": 14,
   "id": "f644e7f7",
   "metadata": {},
   "outputs": [],
   "source": [
    "tmp = Cairo_weather.weather.temperature(unit='celsius')"
   ]
  },
  {
   "cell_type": "code",
   "execution_count": 15,
   "id": "ad57c24d",
   "metadata": {},
   "outputs": [
    {
     "data": {
      "text/plain": [
       "{'temp': 26.42,\n",
       " 'temp_max': 26.42,\n",
       " 'temp_min': 26.42,\n",
       " 'feels_like': 26.42,\n",
       " 'temp_kf': None}"
      ]
     },
     "execution_count": 15,
     "metadata": {},
     "output_type": "execute_result"
    }
   ],
   "source": [
    "tmp"
   ]
  },
  {
   "cell_type": "code",
   "execution_count": null,
   "id": "0537b6a5",
   "metadata": {},
   "outputs": [],
   "source": []
  }
 ],
 "metadata": {
  "kernelspec": {
   "display_name": "Python 3",
   "language": "python",
   "name": "python3"
  },
  "language_info": {
   "codemirror_mode": {
    "name": "ipython",
    "version": 3
   },
   "file_extension": ".py",
   "mimetype": "text/x-python",
   "name": "python",
   "nbconvert_exporter": "python",
   "pygments_lexer": "ipython3",
   "version": "3.8.12"
  }
 },
 "nbformat": 4,
 "nbformat_minor": 5
}
