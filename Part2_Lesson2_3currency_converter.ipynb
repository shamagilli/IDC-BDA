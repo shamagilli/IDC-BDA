{
 "cells": [
  {
   "cell_type": "markdown",
   "id": "d52a58eb",
   "metadata": {},
   "source": [
    "# Part 2, Lesson 2 - Data Engineering\n",
    "# API example - Currency Converter\n",
    "\n",
    "You can get currency data from several packages and web pages. Some gives concurrent conversions, and some give conversion on specified date.\n",
    "\n",
    "See demos in:\n",
    "* https://pypi.org/project/CurrencyConverter/\n",
    "* https://data-flair.training/blogs/currency-converter-python/\n",
    "\n",
    "In terminal execute:\n",
    "    **pip install CurrencyConverter**"
   ]
  },
  {
   "cell_type": "code",
   "execution_count": 1,
   "id": "57b6fc5d",
   "metadata": {},
   "outputs": [],
   "source": [
    "from currency_converter import CurrencyConverter"
   ]
  },
  {
   "cell_type": "code",
   "execution_count": 2,
   "id": "49d3ef2e",
   "metadata": {},
   "outputs": [],
   "source": [
    "c = CurrencyConverter()"
   ]
  },
  {
   "cell_type": "code",
   "execution_count": 4,
   "id": "1ca2cf84",
   "metadata": {},
   "outputs": [
    {
     "data": {
      "text/plain": [
       "111.01"
      ]
     },
     "execution_count": 4,
     "metadata": {},
     "output_type": "execute_result"
    }
   ],
   "source": [
    "c.convert(100, 'EUR', 'USD')"
   ]
  },
  {
   "cell_type": "markdown",
   "id": "f33ee612",
   "metadata": {},
   "source": [
    "Default currency is EUR"
   ]
  },
  {
   "cell_type": "code",
   "execution_count": 5,
   "id": "32dc9585",
   "metadata": {},
   "outputs": [
    {
     "data": {
      "text/plain": [
       "100.0"
      ]
     },
     "execution_count": 5,
     "metadata": {},
     "output_type": "execute_result"
    }
   ],
   "source": [
    "c.convert(100, 'EUR')"
   ]
  },
  {
   "cell_type": "code",
   "execution_count": 7,
   "id": "1814fbab",
   "metadata": {},
   "outputs": [
    {
     "data": {
      "text/plain": [
       "90.08197459688316"
      ]
     },
     "execution_count": 7,
     "metadata": {},
     "output_type": "execute_result"
    }
   ],
   "source": [
    "c.convert(100, 'USD')"
   ]
  },
  {
   "cell_type": "markdown",
   "id": "0e8c47b0",
   "metadata": {},
   "source": [
    "Israeli Shekel is ILS"
   ]
  },
  {
   "cell_type": "code",
   "execution_count": 9,
   "id": "d27acdf5",
   "metadata": {},
   "outputs": [
    {
     "data": {
      "text/plain": [
       "28.374428964617085"
      ]
     },
     "execution_count": 9,
     "metadata": {},
     "output_type": "execute_result"
    }
   ],
   "source": [
    "c.convert(100, 'ILS')"
   ]
  },
  {
   "cell_type": "code",
   "execution_count": 10,
   "id": "fa69f547",
   "metadata": {},
   "outputs": [
    {
     "data": {
      "text/plain": [
       "0.31498453593621434"
      ]
     },
     "execution_count": 10,
     "metadata": {},
     "output_type": "execute_result"
    }
   ],
   "source": [
    "c.convert(1, 'ILS', 'USD')"
   ]
  },
  {
   "cell_type": "code",
   "execution_count": 11,
   "id": "67699b08",
   "metadata": {},
   "outputs": [
    {
     "data": {
      "text/plain": [
       "3.174759030717953"
      ]
     },
     "execution_count": 11,
     "metadata": {},
     "output_type": "execute_result"
    }
   ],
   "source": [
    "c.convert(1, 'USD', 'ILS')"
   ]
  },
  {
   "cell_type": "code",
   "execution_count": null,
   "id": "4b032706",
   "metadata": {},
   "outputs": [],
   "source": []
  }
 ],
 "metadata": {
  "kernelspec": {
   "display_name": "Python 3",
   "language": "python",
   "name": "python3"
  },
  "language_info": {
   "codemirror_mode": {
    "name": "ipython",
    "version": 3
   },
   "file_extension": ".py",
   "mimetype": "text/x-python",
   "name": "python",
   "nbconvert_exporter": "python",
   "pygments_lexer": "ipython3",
   "version": "3.8.12"
  }
 },
 "nbformat": 4,
 "nbformat_minor": 5
}
